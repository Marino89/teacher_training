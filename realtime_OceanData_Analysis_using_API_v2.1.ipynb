{
 "cells": [
  {
   "cell_type": "markdown",
   "metadata": {
    "slideshow": {
     "slide_type": "slide"
    }
   },
   "source": [
    "<p style='text-align: left; color: #a0d2eb; font-size: 1.5rem; font-weight:bold;'>[2024 직무연수]</p>\n",
    "\n",
    "<h1 style='text-align: center; color: #8458B3; font-size: 4rem; font-weight:bold;'>Python을 이용한 해양데이터 활용 실습(2)</h1>\n",
    "\n",
    "<h2 style='text-align: center; color: #a28089; font-size: 3.5rem; font-style:italic;'>\"지금 부산항의 수온과 조위는?\"</h2>\n",
    "<h3 style='text-align: center; color: #D0BDF4; font-size: 3rem; font-weight:bold; padding-top:3.5em;'>송태윤, 이진수</h3>\n",
    "<p style='text-align: center; color: #a0d2eb; font-size: 1.5rem; font-weight:bold; margin:0.5em 0 1em 0;'>해봄데이터(주)</p>"
   ]
  },
  {
   "cell_type": "markdown",
   "metadata": {
    "slideshow": {
     "slide_type": "slide"
    }
   },
   "source": [
    "<h3 style='text-align: center; color:#D0BDF4; font-size:5rem; font-weight:bold; line-height:5rem; margin-bottom:5rem;'>GOAL</h3>\n",
    "    \n",
    "<div style='padding-left: 3rem;margin:auto; width:80%; color:#a28089; font-size: 3rem;font-weight:bold;'>\n",
    "<ol style='line-height:5rem;'>\n",
    "    <li>OpenAPI를 이용하여 해양데이터를 취득할 수 있다. </li>\n",
    "    <li>pandas 라이브러리를 이용하여 데이터 처리 및 시각화를 할 수 있다.</li>\n",
    "    <li>streamlit 패키지로 결과물을 웹으로 배포할 수 있다.</li>\n",
    "</ol>\n",
    "</div>"
   ]
  },
  {
   "cell_type": "markdown",
   "metadata": {
    "slideshow": {
     "slide_type": "slide"
    }
   },
   "source": [
    "<h3 style='text-align: center; color:#D0BDF4; font-size:5rem; font-weight:bold; line-height:5rem; margin-bottom:5rem;'>목차</h3>\n",
    "    \n",
    "<div style='padding-left: 3rem;margin:auto; width:80%; color:#a28089; font-size: 3rem;font-weight:bold;'>\n",
    "<ol style='line-height:5rem;'>\n",
    "      <li>연안 실시간 관측</li>\n",
    "        <li>OpenAPI와 Pandas</li>\n",
    "        <li>[실습] OpenAPI로 조위 및 수온 데이터 처리하기</li>\n",
    "        <li>Streamlit을 활용한 결과 그래프를 웹으로 배포하기</li>\n",
    "    </ol>\n",
    "</div>"
   ]
  },
  {
   "cell_type": "markdown",
   "metadata": {
    "id": "erpPDLMyE76b",
    "slideshow": {
     "slide_type": "slide"
    }
   },
   "source": [
    "<h3 style=\"font-weight:bold; font-size:3rem;line-height:2rem; color:#a28089;\">1. 연안 실시간 관측</h3>\n",
    "<div style='margin:auto; width:70%; padding-top:3rem;'>\n",
    "<img src=\"https://github.com/Marino89/teacher_training/blob/main/image/ocean_instruments.png?raw=true\">\n",
    "</div>"
   ]
  },
  {
   "cell_type": "markdown",
   "metadata": {
    "id": "bSV1DyQdFOoK",
    "slideshow": {
     "slide_type": "slide"
    }
   },
   "source": [
    "<h3 style='color:#a28089; font-size:3rem; font-weight:bold; line-height:2rem;'>2. OpenAPI와 Pandas</h3>\n",
    "<div style='margin:auto; width:90%; margin-top:3rem;'>\n",
    "    <p style='color:#a0d2eb; font-size:2.5rem; font-weight:bold; line-height:2rem;'>OpenAPI란?</p>\n",
    "    <ul style='font-size:2rem; line-height:3rem'>\n",
    "        <li>누구나 사용할 수 있도록 공개된 API</li>\n",
    "        <li>API란 Application Programming Interface의 줄임말로 응용프로그램에서 데이터를 주고 받기 위한 방법(규격)</li>\n",
    "        <li>개발시 시간, 비용을 절감하고 양질의 앱 개발 가능</li>\n",
    "        <li>승인된 공개키 발급 필요</li>\n",
    "        <li>예) 로그인API, 지도API</li>\n",
    "        <li>API 구현 방법: 대표적으로 REST API</li>\n",
    "        <li>API 결과(데이터) 제공 형식: JSON, XML</li>\n",
    "    </ul>           \n",
    "</div>\n",
    "<div style='width:50%; margin:auto'>\n",
    "<img src='https://github.com/Marino89/teacher_training/blob/main/image/Pasted%20image%2020240723002301.png?raw=true'>\n",
    "<figcaption style='text-align:right; font-size:1rem;'>출처: http://sahilsk.github.io/articles/so-youre-writing-api-client</figcaption>\n",
    "</div>"
   ]
  },
  {
   "cell_type": "markdown",
   "metadata": {
    "slideshow": {
     "slide_type": "subslide"
    }
   },
   "source": [
    "\n",
    "<h6 style='color:#a28089; font-size:1.5rem; font-weight:bold; line-height:2rem;'>2. OpenAPI와 Pandas</h6>\n",
    "\n",
    "<div style='margin:auto; width:90%; margin-top:3rem; line-height:2rem;'>\n",
    "    <p style='color:#a0d2eb; font-size:2.5rem; font-weight:bold;'>국립해양조사원 OpenAPI 발급받기</p>\n",
    "    <ul style='font-size:2rem;margin-top:1rem;line-height:3rem'>\n",
    "        <li><a href='http://www.khoa.go.kr/oceangrid/khoa/takepart/openapi/openApiKey.do' target='_blank'>국립해양조사원 OpenAPI 발급사이트</a></li>\n",
    "        <li>회원가입</li>\n",
    "        <li>이용약관 동의/API 발급</li>\n",
    "    </ul>           \n",
    "</div>\n",
    "<div style=\"margin:auto;text-align: center;margin-top:2rem; width:550px;\">\n",
    "    <img src=\"https://github.com/Marino89/teacher_training/blob/main/image/Pasted%20image%2020240723003718.png?raw=true\">\n",
    "    <figcaption style='text-align:center; font-size:2rem;margin-bottom:3rem;padding-bottom:2rem'>(국립해양조사원 OpenAPI발급화면)</figcaption>\n",
    "</div>"
   ]
  },
  {
   "cell_type": "markdown",
   "metadata": {
    "id": "XniJGgIRFTHg",
    "slideshow": {
     "slide_type": "subslide"
    }
   },
   "source": [
    "<h6 style='color:#a28089; font-size:1.5rem; font-weight:bold; line-height:2rem;'>2. OpenAPI와 Pandas</h6>\n",
    "\n",
    "<div style=\"padding: 0; margin-bottom:0;\">\n",
    "    <p style='color:#a0d2eb; font-size:2.5rem; font-weight:bold;margin-top:3rem; padding-left:5rem'>Pandas</p>\n",
    "    <div style=\"float:right; margin-right:5rem ; margin-left:0\">\n",
    "        <img  src=\"https://encrypted-tbn0.gstatic.com/images?q=tbn:ANd9GcTKPePf0eI9lrP20Ym-P0v-_B2yB6IHRoQiWw&s\">\n",
    "    </div>\n",
    "    <div style=\"width:60%; padding-top:2rem ; font-size:2rem;margin-top-bottom:1rem 0rem;\">\n",
    "    <ul style='line-height:3rem;'>\n",
    "        <li>판다스(Pandas)는 <span style=\"font-weight:bold;\">파이썬 데이터 분석 라이브러리</span> 중 하나로, 데이터 조작, 정제, 분석, 시각화 등을 위한 다양한 기능을 제공</li>\n",
    "        <li>판다스는 시리즈(Series)와 데이터프레임(DataFrame)이라는 자료형을 이용하여 데이터 처리</li>\n",
    "    </ul>\n",
    "    </div>\n",
    "</div>\n",
    "<div style=\"text-align:center; margin:auto; padding-bottom:5rem; margin-bottom:5rem; width:700px\" >\n",
    "    <img src=\"https://github.com/Marino89/teacher_training/blob/main/image/pandas_learning.png?raw=true\">\n",
    "</div>"
   ]
  },
  {
   "cell_type": "markdown",
   "metadata": {
    "slideshow": {
     "slide_type": "slide"
    }
   },
   "source": [
    "<h3 style='color:#a28089; font-size:3rem; font-weight:bold; line-height:2rem;'>3. [실습] OpenAPI로 조위 및 수온 데이터 처리하기</h3>\n",
    "<div style='margin:auto; width:90%; margin-top:3rem; line-height:2rem;'>\n",
    "    <ol style='font-size:2rem;margin-top:1rem;line-height:3rem'>\n",
    "        <li>파이썬 라이브러리 불러오기</li>\n",
    "        <li>인증키와 API 파라미터로 URL 만들기</li>\n",
    "        <li>json 형식의 데이터를 pandas의 dataframe 형식으로 변환</li>\n",
    "        <li>그래프 시각화</li>\n",
    "    </ol>           \n",
    "</div>"
   ]
  },
  {
   "cell_type": "code",
   "execution_count": 3,
   "metadata": {
    "id": "vzAVdt96LsbZ",
    "slideshow": {
     "slide_type": "subslide"
    }
   },
   "outputs": [],
   "source": [
    "# 라이브러리 불러오기\n",
    "import urllib.request\n",
    "import json\n",
    "import pandas as pd\n",
    "import matplotlib.pyplot as plt\n",
    "from scipy.signal import savgol_filter"
   ]
  },
  {
   "cell_type": "code",
   "execution_count": 4,
   "metadata": {
    "id": "QXMm2cciL8yz",
    "slideshow": {
     "slide_type": "subslide"
    }
   },
   "outputs": [],
   "source": [
    "# 인증키와 주소\n",
    "key = 'sr459ziApoSMy4hv1yD3Mw=='\n",
    "td_busan = 'DT_0002'\n",
    "ob_busan = 'TW_0086'"
   ]
  },
  {
   "cell_type": "code",
   "execution_count": null,
   "metadata": {
    "colab": {
     "base_uri": "https://localhost:8080/",
     "height": 244
    },
    "executionInfo": {
     "elapsed": 1086,
     "status": "ok",
     "timestamp": 1722225089758,
     "user": {
      "displayName": "Taeyoon Song",
      "userId": "02203048419444306440"
     },
     "user_tz": -540
    },
    "id": "xTH5gwZcPJH3",
    "outputId": "d33b3db8-36c2-4d6d-e48d-e3c67c0659fa",
    "scrolled": true,
    "slideshow": {
     "slide_type": "subslide"
    }
   },
   "outputs": [],
   "source": [
    "# 조위관측소 실측 & 예측 (날짜검색 기준 1시간 간격)\n",
    "\n",
    "url = f'http://www.khoa.go.kr/api/oceangrid/tideCurPre/search.do?ServiceKey={key}&ObsCode={td_busan}&Date=20240722&ResultType=json'\n",
    "\n",
    "# 데이터 가져오기\n",
    "response = urllib.request.urlopen(url)\n",
    "json_str = response.read().decode('utf-8')\n",
    "\n",
    "# JSON -> Dict으로 변환\n",
    "json_object = json.loads(json_str)\n",
    "print(json_object)\n",
    "\n",
    "# Dict -> 데이터프레임으로 변환\n",
    "df = pd.json_normalize(json_object['result']['data'])\n",
    "\n",
    "# 확인\n",
    "df.head()"
   ]
  },
  {
   "cell_type": "code",
   "execution_count": null,
   "metadata": {
    "scrolled": false,
    "slideshow": {
     "slide_type": "subslide"
    }
   },
   "outputs": [],
   "source": [
    "df.info()"
   ]
  },
  {
   "cell_type": "code",
   "execution_count": 8,
   "metadata": {
    "slideshow": {
     "slide_type": "subslide"
    }
   },
   "outputs": [],
   "source": [
    "# 데이터 타입 변환\n",
    "df['record_time'] = pd.to_datetime(df['record_time'], format='%Y-%m-%d %H:%M')\n",
    "df['pre_value'] = df['pre_value'].astype(float)\n",
    "df['real_value'] = df['real_value'].astype(float)"
   ]
  },
  {
   "cell_type": "code",
   "execution_count": null,
   "metadata": {
    "scrolled": true,
    "slideshow": {
     "slide_type": "subslide"
    }
   },
   "outputs": [],
   "source": [
    "# matplotlib으로 그래프 시각화\n",
    "plt.plot(df['record_time'], df['pre_value'], 'b-', label='predicted')\n",
    "plt.plot(df['record_time'], df['real_value'], 'r-',label='real time')\n",
    "plt.xlabel('time')\n",
    "plt.ylabel('tidal height(cm)')\n",
    "plt.title('Tide Level at Busan')\n",
    "plt.xticks(rotation=45)\n",
    "plt.legend()\n",
    "\n",
    "# y축 범위 설정\n",
    "#plt.ylim(24.5, 25.5)\n",
    "\n",
    "plt.show()"
   ]
  },
  {
   "cell_type": "code",
   "execution_count": null,
   "metadata": {
    "colab": {
     "base_uri": "https://localhost:8080/",
     "height": 206
    },
    "executionInfo": {
     "elapsed": 2620,
     "status": "ok",
     "timestamp": 1722228277340,
     "user": {
      "displayName": "Taeyoon Song",
      "userId": "02203048419444306440"
     },
     "user_tz": -540
    },
    "id": "-U4b1x7FgqNY",
    "outputId": "5facc15c-da66-4825-f061-54878e3a9b6a",
    "scrolled": true,
    "slideshow": {
     "slide_type": "subslide"
    }
   },
   "outputs": [],
   "source": [
    "# 수온관측 API URL\n",
    "url = f'http://www.khoa.go.kr/api/oceangrid/tideObsTemp/search.do?ServiceKey={key}&ObsCode={td_busan}&Date=20240722&ResultType=json'\n",
    "\n",
    "# 데이터 가져오기\n",
    "response = urllib.request.urlopen(url)\n",
    "json_str = response.read().decode('utf-8')\n",
    "\n",
    "# JSON -> Dict으로 변환\n",
    "json_object = json.loads(json_str)\n",
    "#print(json_object)\n",
    "\n",
    "# Dict -> 데이터프레임으로 변환\n",
    "df = pd.json_normalize(json_object['result']['data'])\n",
    "\n",
    "# 확인\n",
    "df.head()"
   ]
  },
  {
   "cell_type": "code",
   "execution_count": null,
   "metadata": {
    "colab": {
     "base_uri": "https://localhost:8080/"
    },
    "executionInfo": {
     "elapsed": 451,
     "status": "ok",
     "timestamp": 1722228281439,
     "user": {
      "displayName": "Taeyoon Song",
      "userId": "02203048419444306440"
     },
     "user_tz": -540
    },
    "id": "TMK5Nv8Y9uT4",
    "outputId": "62933268-a2dc-462c-8e8d-ecda580dd9db",
    "scrolled": true,
    "slideshow": {
     "slide_type": "subslide"
    }
   },
   "outputs": [],
   "source": [
    "print(type(df))"
   ]
  },
  {
   "cell_type": "code",
   "execution_count": null,
   "metadata": {
    "colab": {
     "base_uri": "https://localhost:8080/"
    },
    "executionInfo": {
     "elapsed": 336,
     "status": "ok",
     "timestamp": 1722228283680,
     "user": {
      "displayName": "Taeyoon Song",
      "userId": "02203048419444306440"
     },
     "user_tz": -540
    },
    "id": "zpurrLcNz0lT",
    "outputId": "0ccf1c42-3bee-41e3-aa63-eb3d6380e96e",
    "scrolled": true,
    "slideshow": {
     "slide_type": "subslide"
    }
   },
   "outputs": [],
   "source": [
    "df.info()"
   ]
  },
  {
   "cell_type": "code",
   "execution_count": 13,
   "metadata": {
    "id": "Nw_1IaeznDt2",
    "slideshow": {
     "slide_type": "subslide"
    }
   },
   "outputs": [],
   "source": [
    "df['record_time'] = pd.to_datetime(df['record_time'], format='%Y-%m-%d %H:%M:%S')\n",
    "df['water_temp'] = df['water_temp'].astype(float)"
   ]
  },
  {
   "cell_type": "code",
   "execution_count": null,
   "metadata": {
    "colab": {
     "base_uri": "https://localhost:8080/"
    },
    "executionInfo": {
     "elapsed": 321,
     "status": "ok",
     "timestamp": 1722228289501,
     "user": {
      "displayName": "Taeyoon Song",
      "userId": "02203048419444306440"
     },
     "user_tz": -540
    },
    "id": "6ga_fav4n_nJ",
    "outputId": "c4ca08be-537b-4b34-8787-3a517655ac00",
    "scrolled": true,
    "slideshow": {
     "slide_type": "subslide"
    }
   },
   "outputs": [],
   "source": [
    "df.info()"
   ]
  },
  {
   "cell_type": "code",
   "execution_count": null,
   "metadata": {
    "colab": {
     "base_uri": "https://localhost:8080/",
     "height": 511
    },
    "executionInfo": {
     "elapsed": 1398,
     "status": "ok",
     "timestamp": 1722228620397,
     "user": {
      "displayName": "Taeyoon Song",
      "userId": "02203048419444306440"
     },
     "user_tz": -540
    },
    "id": "KmGotD5Z-ViT",
    "outputId": "bceae09f-6b3f-406f-b85b-1f47f542ab21",
    "scrolled": true,
    "slideshow": {
     "slide_type": "subslide"
    }
   },
   "outputs": [],
   "source": [
    "\n",
    "# 시계열 그래프 그리기\n",
    "plt.plot(df['record_time'], df['water_temp'])\n",
    "plt.xlabel('time')\n",
    "plt.ylabel(u'Temp (\\u00B0C)') # 온도 단위를 유니코드로 표기\n",
    "plt.title('temp')\n",
    "# x축 레이블 기울이기\n",
    "plt.xticks(rotation=45)\n",
    "plt.show()"
   ]
  },
  {
   "cell_type": "code",
   "execution_count": null,
   "metadata": {
    "colab": {
     "base_uri": "https://localhost:8080/",
     "height": 511
    },
    "executionInfo": {
     "elapsed": 1280,
     "status": "ok",
     "timestamp": 1722228655148,
     "user": {
      "displayName": "Taeyoon Song",
      "userId": "02203048419444306440"
     },
     "user_tz": -540
    },
    "id": "d6CUVDO6kdSo",
    "outputId": "3cd34b76-687d-46a8-f244-73f6fec5a9c0",
    "scrolled": true,
    "slideshow": {
     "slide_type": "subslide"
    }
   },
   "outputs": [],
   "source": [
    "# Savitzky-Golay 필터 적용\n",
    "window_length = 51  # 필터 윈도우 크기 (홀수)\n",
    "polyorder = 4       # 다항식 차수\n",
    "df['temp_mod'] = savgol_filter(df['water_temp'], window_length, polyorder)\n",
    "\n",
    "plt.plot(df['record_time'], df['water_temp'], 'b-', label='original')\n",
    "plt.plot(df['record_time'], df['temp_mod'], 'r-',label='Savitzky-Golay mod')\n",
    "plt.xlabel('time')\n",
    "plt.ylabel(u'Temp (\\u00B0C)') \n",
    "plt.title('부산의 현재 수온')\n",
    "plt.xticks(rotation=45)\n",
    "plt.legend()\n",
    "\n",
    "# y축 범위 설정\n",
    "#plt.ylim(24.5, 25.5)\n",
    "\n",
    "plt.show()"
   ]
  },
  {
   "cell_type": "markdown",
   "metadata": {
    "slideshow": {
     "slide_type": "slide"
    }
   },
   "source": [
    "<h3 style='color:#a28089; font-size:3rem; font-weight:bold; line-height:2rem;'>4. Streamlit을 활용하여 결과 그래프를 웹으로 배포하기</h3>"
   ]
  }
 ],
 "metadata": {
  "celltoolbar": "Slideshow",
  "colab": {
   "authorship_tag": "ABX9TyOoaYhLE7bsa/bqUIWpd9XC",
   "mount_file_id": "1TvS9GTsNh0oeM1xXgQFyBeBhO0zNzoiB",
   "provenance": []
  },
  "hide_input": false,
  "kernelspec": {
   "display_name": "Python 3 (ipykernel)",
   "language": "python",
   "name": "python3"
  },
  "language_info": {
   "codemirror_mode": {
    "name": "ipython",
    "version": 3
   },
   "file_extension": ".py",
   "mimetype": "text/x-python",
   "name": "python",
   "nbconvert_exporter": "python",
   "pygments_lexer": "ipython3",
   "version": "3.12.3"
  },
  "nbTranslate": {
   "displayLangs": [
    "*"
   ],
   "hotkey": "alt-t",
   "langInMainMenu": true,
   "sourceLang": "en",
   "targetLang": "fr",
   "useGoogleTranslate": true
  },
  "toc": {
   "base_numbering": 1,
   "nav_menu": {},
   "number_sections": true,
   "sideBar": true,
   "skip_h1_title": false,
   "title_cell": "Table of Contents",
   "title_sidebar": "Contents",
   "toc_cell": false,
   "toc_position": {},
   "toc_section_display": true,
   "toc_window_display": false
  }
 },
 "nbformat": 4,
 "nbformat_minor": 1
}
